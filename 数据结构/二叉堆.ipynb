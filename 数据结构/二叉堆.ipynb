{
 "cells": [
  {
   "cell_type": "markdown",
   "metadata": {
    "ExecuteTime": {
     "end_time": "2018-09-07T06:08:04.462073Z",
     "start_time": "2018-09-07T06:08:04.449806Z"
    }
   },
   "source": [
    "[漫画：什么是二叉堆？](https://mp.weixin.qq.com/s?__biz=MzIxMjE5MTE1Nw==&mid=2653195169&idx=1&sn=dd83d7ef50f4171d78a4d58f447bc520&chksm=8c99f97bbbee706dab2e7a8caeb01450381d699a98166b6159c625566d8dc07eb8783b66a98b&mpshare=1&scene=1&srcid=0907Dao1ijx0CwXt9RI0HXm1&pass_ticket=%2F3U7p7g7L%2BLEdfaHPmZ5PJNyz6UuSJVyV4%2FJ5MhKBcI6YFBbA2HOiOCEdKT5sU9n#rd)\n",
    "1. 二叉堆是实现堆排序以及优先级队列的基础；\n",
    "2. 二叉堆本质上是一种完全二叉树，他分为两个类型：最大堆和最小堆；\n",
    "3. 最大堆：任何一个父节点的值都大于等于它左右孩子节点的值；\n",
    "4. 最小堆：任何一个父节点的值都小于等于它左右孩子节点的值；\n",
    "5. 二叉堆的根节点叫做堆顶；\n",
    "6. 对于二叉堆有几种操作：插入节点、删除节点和构建二叉堆；\n",
    "7. 二叉堆的节点插入，插入的位置是完全二叉树的作后一个位置；\n",
    "8. 二叉堆的节点删除和插入过程正好相反，所删除的是处于堆顶的节点，把最后一个节点的值补到堆顶；\n",
    "9. 构建二叉堆就是把一个无序的完全二叉树调整为二叉堆，本质上就是让所有非叶子节点依次下沉，从最后一个非叶子节点开始；"
   ]
  },
  {
   "cell_type": "markdown",
   "metadata": {},
   "source": [
    "1. 二叉堆虽然是一个完全二叉树，但他的存储方式并不是链式存储，而是顺序存储。所有节点都存储在数组当中。\n",
    "2. 依靠数组下标来计算，父：parent, 左子：2*parent+1，右子：2*parent+2；\n",
    "3. 代码中有一个优化的点，就是父节点和孩子节点作连续交换时，并不一定要真的交换，只需要先把交换一方的值存入temp变量，作单向覆盖，循环结束之后，再把temp的值存入交换之后的最终位置。"
   ]
  },
  {
   "cell_type": "code",
   "execution_count": null,
   "metadata": {},
   "outputs": [],
   "source": []
  }
 ],
 "metadata": {
  "kernelspec": {
   "display_name": "Python 3",
   "language": "python",
   "name": "python3"
  },
  "language_info": {
   "codemirror_mode": {
    "name": "ipython",
    "version": 3
   },
   "file_extension": ".py",
   "mimetype": "text/x-python",
   "name": "python",
   "nbconvert_exporter": "python",
   "pygments_lexer": "ipython3",
   "version": "3.6.5"
  }
 },
 "nbformat": 4,
 "nbformat_minor": 2
}
