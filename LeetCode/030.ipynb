{
 "cells": [
  {
   "cell_type": "markdown",
   "metadata": {},
   "source": [
    "[30. 与所有单词相关联的字串](https://leetcode-cn.com/problems/substring-with-concatenation-of-all-words/description/)"
   ]
  },
  {
   "cell_type": "code",
   "execution_count": 4,
   "metadata": {
    "ExecuteTime": {
     "end_time": "2018-09-07T07:17:42.965163Z",
     "start_time": "2018-09-07T07:17:42.959537Z"
    }
   },
   "outputs": [],
   "source": [
    "import collections\n",
    "import logging"
   ]
  },
  {
   "cell_type": "code",
   "execution_count": 12,
   "metadata": {
    "ExecuteTime": {
     "end_time": "2018-09-07T07:18:13.585695Z",
     "start_time": "2018-09-07T07:18:13.571190Z"
    }
   },
   "outputs": [],
   "source": [
    "class Solution(object):\n",
    "    def findSubstring(self, s, words):\n",
    "        \"\"\"\n",
    "        :type s: str\n",
    "        :type words: List[str]\n",
    "        :rtype: List[int]\n",
    "        \"\"\"\n",
    "        result, m, n, k = [], len(s), len(words), len(words[0])\n",
    "        if m < n*k:\n",
    "            return result\n",
    "\n",
    "        lookup = collections.defaultdict(int)\n",
    "        for i in words:\n",
    "            lookup[i] += 1                # Space: O(n * k)\n",
    "        \n",
    "        print(\"A\",lookup)\n",
    "\n",
    "        for i in range(k):               # Time:  O(k)\n",
    "            left, count = i, 0\n",
    "            tmp = collections.defaultdict(int)\n",
    "            for j in range(i, m-k+1, k): # Time:  O(m / k)\n",
    "                # j是s中的下标\n",
    "                s1 = s[j:j+k];            # Time:  O(k)\n",
    "                print(\"B\", s1)\n",
    "                if s1 in lookup:\n",
    "                    tmp[s1] += 1\n",
    "                    print(\"C\",tmp)\n",
    "                    if tmp[s1] <= lookup[s1]:\n",
    "                        count += 1\n",
    "                    else:\n",
    "                        while tmp[s1] > lookup[s1]:\n",
    "                            s2 = s[left:left+k]\n",
    "                            tmp[s2] -= 1\n",
    "                            if tmp[s2] < lookup[s2]:\n",
    "                                count -= 1\n",
    "                            left += k\n",
    "                    if count == n:\n",
    "                        result.append(left)\n",
    "                        tmp[s[left:left+k]] -= 1\n",
    "                        count -= 1\n",
    "                        left += k\n",
    "                else:\n",
    "                    tmp = collections.defaultdict(int)\n",
    "                    count = 0\n",
    "                    left = j+k\n",
    "        return result"
   ]
  },
  {
   "cell_type": "code",
   "execution_count": 15,
   "metadata": {},
   "outputs": [
    {
     "name": "stdout",
     "output_type": "stream",
     "text": [
      "A defaultdict(<class 'int'>, {'foo': 1, 'bar': 1, 'the': 1})\n",
      "B bar\n",
      "C defaultdict(<class 'int'>, {'bar': 1})\n",
      "B foo\n",
      "C defaultdict(<class 'int'>, {'bar': 1, 'foo': 1})\n",
      "B the\n",
      "C defaultdict(<class 'int'>, {'bar': 1, 'foo': 1, 'the': 1})\n",
      "B bar\n",
      "C defaultdict(<class 'int'>, {'bar': 1, 'foo': 1, 'the': 1})\n",
      "B foo\n",
      "C defaultdict(<class 'int'>, {'bar': 1, 'foo': 1, 'the': 1})\n",
      "B bar\n",
      "C defaultdict(<class 'int'>, {'bar': 2, 'foo': 1, 'the': 0})\n",
      "B man\n",
      "B arf\n",
      "B oot\n",
      "B heb\n",
      "B arf\n",
      "B oob\n",
      "B arm\n",
      "B rfo\n",
      "B oth\n",
      "B eba\n",
      "B rfo\n",
      "B oba\n",
      "B rma\n"
     ]
    },
    {
     "data": {
      "text/plain": [
       "[0, 3, 6]"
      ]
     },
     "execution_count": 15,
     "metadata": {},
     "output_type": "execute_result"
    }
   ],
   "source": [
    "sl = Solution()\n",
    "sl.findSubstring(\"barfoothebarfoobarman\", [\"foo\",\"bar\",\"the\"])"
   ]
  },
  {
   "cell_type": "code",
   "execution_count": 20,
   "metadata": {
    "ExecuteTime": {
     "end_time": "2018-09-07T07:18:37.964895Z",
     "start_time": "2018-09-07T07:18:37.951748Z"
    }
   },
   "outputs": [],
   "source": [
    "# Time:  O(m * n * k), where m is string length, n is dictionary size, k is word length\n",
    "# Space: O(n * k)\n",
    "class Solution2(object):\n",
    "    def findSubstring(self, s, words):\n",
    "        \"\"\"\n",
    "        :type s: str\n",
    "        :type words: List[str]\n",
    "        :rtype: List[int]\n",
    "        \"\"\"\n",
    "        result, m, n, k = [], len(s), len(words), len(words[0])\n",
    "        if m < n*k:\n",
    "            return result\n",
    "\n",
    "        lookup = collections.defaultdict(int)\n",
    "        for i in words:\n",
    "            lookup[i] += 1                            # Space: O(n * k)\n",
    "\n",
    "        for i in range(m+1-k*n):                     # Time: O(m)\n",
    "            cur, j = collections.defaultdict(int), 0\n",
    "            print(\"A\", i)\n",
    "            while j < n:                              # Time: O(n)\n",
    "                word = s[i+j*k:i+j*k+k]               # Time: O(k)\n",
    "                if word not in lookup:\n",
    "                    break\n",
    "                cur[word] += 1\n",
    "                if cur[word] > lookup[word]:\n",
    "                    break\n",
    "                j += 1\n",
    "            if j == n:\n",
    "                result.append(i)\n",
    "\n",
    "        return result"
   ]
  },
  {
   "cell_type": "code",
   "execution_count": 21,
   "metadata": {},
   "outputs": [
    {
     "name": "stdout",
     "output_type": "stream",
     "text": [
      "A 0\n",
      "A 1\n",
      "A 2\n",
      "A 3\n",
      "A 4\n",
      "A 5\n",
      "A 6\n",
      "A 7\n",
      "A 8\n",
      "A 9\n",
      "A 10\n",
      "A 11\n",
      "A 12\n"
     ]
    },
    {
     "data": {
      "text/plain": [
       "[0, 3, 6]"
      ]
     },
     "execution_count": 21,
     "metadata": {},
     "output_type": "execute_result"
    }
   ],
   "source": [
    "sl2 = Solution2()\n",
    "sl2.findSubstring(\"barfoothebarfoobarman\", [\"foo\",\"bar\",\"the\"])"
   ]
  }
 ],
 "metadata": {
  "kernelspec": {
   "display_name": "Python 3",
   "language": "python",
   "name": "python3"
  },
  "language_info": {
   "codemirror_mode": {
    "name": "ipython",
    "version": 3
   },
   "file_extension": ".py",
   "mimetype": "text/x-python",
   "name": "python",
   "nbconvert_exporter": "python",
   "pygments_lexer": "ipython3",
   "version": "3.6.5"
  },
  "latex_envs": {
   "LaTeX_envs_menu_present": true,
   "autoclose": false,
   "autocomplete": true,
   "bibliofile": "biblio.bib",
   "cite_by": "apalike",
   "current_citInitial": 1,
   "eqLabelWithNumbers": true,
   "eqNumInitial": 1,
   "hotkeys": {
    "equation": "Ctrl-E",
    "itemize": "Ctrl-I"
   },
   "labels_anchors": false,
   "latex_user_defs": false,
   "report_style_numbering": false,
   "user_envs_cfg": false
  }
 },
 "nbformat": 4,
 "nbformat_minor": 2
}
