{
 "cells": [
  {
   "cell_type": "code",
   "execution_count": 2,
   "metadata": {
    "ExecuteTime": {
     "end_time": "2018-09-06T03:28:54.813715Z",
     "start_time": "2018-09-06T03:28:54.808979Z"
    }
   },
   "outputs": [],
   "source": [
    "### [Super Pow](https://leetcode-cn.com/problems/super-pow/description/)"
   ]
  },
  {
   "cell_type": "code",
   "execution_count": 22,
   "metadata": {
    "ExecuteTime": {
     "end_time": "2018-09-06T04:01:27.323737Z",
     "start_time": "2018-09-06T04:01:27.317105Z"
    }
   },
   "outputs": [],
   "source": [
    "def myPow(a, n, b):\n",
    "    result = 1\n",
    "    x = a % b\n",
    "    while n:\n",
    "        if n & 1:\n",
    "            result = result * x % b\n",
    "        print(result, bin(n))\n",
    "        n >>= 1\n",
    "        x = x * x % b\n",
    "    return result % b"
   ]
  },
  {
   "cell_type": "code",
   "execution_count": 23,
   "metadata": {
    "ExecuteTime": {
     "end_time": "2018-09-06T04:01:32.831151Z",
     "start_time": "2018-09-06T04:01:32.820903Z"
    }
   },
   "outputs": [
    {
     "name": "stdout",
     "output_type": "stream",
     "text": [
      "1 0b1010\n",
      "4 0b101\n",
      "4 0b10\n",
      "1024 0b1\n"
     ]
    },
    {
     "data": {
      "text/plain": [
       "1024"
      ]
     },
     "execution_count": 23,
     "metadata": {},
     "output_type": "execute_result"
    }
   ],
   "source": [
    "myPow(2, 10, 1337)"
   ]
  },
  {
   "cell_type": "code",
   "execution_count": 24,
   "metadata": {
    "ExecuteTime": {
     "end_time": "2018-09-06T04:01:36.213008Z",
     "start_time": "2018-09-06T04:01:36.204596Z"
    }
   },
   "outputs": [
    {
     "name": "stdout",
     "output_type": "stream",
     "text": [
      "1 0b1010\n",
      "1 0b101\n",
      "1 0b10\n",
      "1 0b1\n",
      "3 0b1\n",
      "1 0b1010\n",
      "9 0b101\n",
      "9 0b10\n",
      "221 0b1\n",
      "221\n"
     ]
    }
   ],
   "source": [
    "result = 1\n",
    "a = 3\n",
    "for digit in [1, 0]:\n",
    "    result = myPow(result, 10, 1337) * myPow(a, digit, 1337) % 1337\n",
    "print(result)"
   ]
  },
  {
   "cell_type": "raw",
   "metadata": {},
   "source": [
    "# 解答结束"
   ]
  },
  {
   "cell_type": "code",
   "execution_count": 16,
   "metadata": {
    "ExecuteTime": {
     "end_time": "2018-09-06T03:55:04.013949Z",
     "start_time": "2018-09-06T03:55:04.006444Z"
    }
   },
   "outputs": [
    {
     "data": {
      "text/plain": [
       "221"
      ]
     },
     "execution_count": 16,
     "metadata": {},
     "output_type": "execute_result"
    }
   ],
   "source": [
    "3 ** 10 % 1337"
   ]
  },
  {
   "cell_type": "code",
   "execution_count": 20,
   "metadata": {
    "ExecuteTime": {
     "end_time": "2018-09-06T03:56:37.630038Z",
     "start_time": "2018-09-06T03:56:37.622681Z"
    }
   },
   "outputs": [
    {
     "name": "stdout",
     "output_type": "stream",
     "text": [
      "221\n"
     ]
    }
   ],
   "source": [
    "a = 3\n",
    "b = [1, 0]\n",
    "r_a = (a ** int(''.join(map(str, b))))\n",
    "print(r_a % 1337)"
   ]
  }
 ],
 "metadata": {
  "kernelspec": {
   "display_name": "Python 3",
   "language": "python",
   "name": "python3"
  },
  "language_info": {
   "codemirror_mode": {
    "name": "ipython",
    "version": 3
   },
   "file_extension": ".py",
   "mimetype": "text/x-python",
   "name": "python",
   "nbconvert_exporter": "python",
   "pygments_lexer": "ipython3",
   "version": "3.6.5"
  }
 },
 "nbformat": 4,
 "nbformat_minor": 2
}
