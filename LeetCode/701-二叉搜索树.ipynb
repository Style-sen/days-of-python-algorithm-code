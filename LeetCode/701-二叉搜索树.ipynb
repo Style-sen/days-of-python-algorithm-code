{
 "cells": [
  {
   "cell_type": "markdown",
   "metadata": {},
   "source": [
    "1. 一棵二叉搜索树（BST）是以一棵二叉树来组织的，可以用链表数据结构来表示，其中，每一个结点就是一个对象，一般地，包含数据内容key和指向孩子（也可能是父母）的指针属性。如果某个孩子结点不存在，其指针属性值为空（NIL）。\n",
    "2. 二叉搜索树中的关键字key的存储方式总是满足二叉搜索树的性质：设x是二叉搜索树中的一个结点。如果y是x左子树中的一个结点，那么会有y.key<=x.key；如果y是x右子树中的一个节点，那么有y.key>=x.key。、\n",
    "3. 二叉搜索树很多时候用来进行数据查找。这个过程从树的根结点开始，沿着一条简单路径一直向下，直到找到数据或者得到NIL值。\n",
    "```python\n",
    "# 递归实现\n",
    "Tree_Search(x, k):\n",
    "    if x == NIL or x.key == k :\n",
    "        return x\n",
    "    if k < x.key\n",
    "        return Tree_Search(x.left, k)\n",
    "    else return Tree_Search(x.right, k)\n",
    "# 非递归迭代实现\n",
    "Tree_Search(x, k) :\n",
    "    while x!=NIL and k!=x.key:\n",
    "        if k < x.key:\n",
    "            x = x.left\n",
    "        else x = x.right\n",
    "    return x\n",
    "\"一般来说，迭代方式的效率比递归方式高很多。\"\n",
    "```"
   ]
  },
  {
   "cell_type": "code",
   "execution_count": null,
   "metadata": {},
   "outputs": [],
   "source": [
    "# Definition for a binary tree node.\n",
    "# class TreeNode:\n",
    "#     def __init__(self, x):\n",
    "#         self.val = x\n",
    "#         self.left = None\n",
    "#         self.right = None\n",
    "\n",
    "class Solution:\n",
    "    def insertIntoBST(self, root, val):\n",
    "        \"\"\"\n",
    "        :type root: TreeNode\n",
    "        :type val: int\n",
    "        :rtype: TreeNode\n",
    "        \"\"\"\n",
    "        child = root\n",
    "        while True:\n",
    "            if val > child.val:\n",
    "                if not child.right:\n",
    "                    child.right = TreeNode(val)\n",
    "                    break\n",
    "                child = child.right\n",
    "            else:\n",
    "                if not child.left:\n",
    "                    child.left = TreeNode(val)\n",
    "                    break\n",
    "                child = child.left\n",
    "        \n",
    "        return root"
   ]
  }
 ],
 "metadata": {
  "kernelspec": {
   "display_name": "Python 3",
   "language": "python",
   "name": "python3"
  },
  "language_info": {
   "codemirror_mode": {
    "name": "ipython",
    "version": 3
   },
   "file_extension": ".py",
   "mimetype": "text/x-python",
   "name": "python",
   "nbconvert_exporter": "python",
   "pygments_lexer": "ipython3",
   "version": "3.6.5"
  }
 },
 "nbformat": 4,
 "nbformat_minor": 2
}
